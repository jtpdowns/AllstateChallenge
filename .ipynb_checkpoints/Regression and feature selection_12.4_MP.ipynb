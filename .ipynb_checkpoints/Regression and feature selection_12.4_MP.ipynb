{
 "cells": [
  {
   "cell_type": "markdown",
   "metadata": {
    "collapsed": true
   },
   "source": [
    "\n",
    "## Regression: experimenting with Lasso and Ridge\n",
    "#### Project:  Allstate Claims Severity\n",
    "#### Author:   Joshep Downs, James Peng, Megan Pera, Diana Rodenberger \n",
    "#### Purpose:  Predicting cost and severity of claims for AllState\n",
    "#### Updated: 12/4/16\n",
    "\n",
    "### Team name in Kaggle: UCB_207_1\n",
    "\n",
    "## Link to Leaderboard\n",
    "https://www.kaggle.com/c/allstate-claims-severity/leaderboard\n"
   ]
  },
  {
   "cell_type": "code",
   "execution_count": 1,
   "metadata": {
    "collapsed": false
   },
   "outputs": [],
   "source": [
    "import unittest\n",
    "\n",
    "# General libraries.\n",
    "import re, os, sys\n",
    "import numpy as np\n",
    "import pandas as pd\n",
    "import logging\n",
    "import matplotlib.pyplot as plt\n",
    "\n",
    "# Libraries for feature selection and model creation\n",
    "from sklearn.pipeline import Pipeline\n",
    "#from sklearn.feature_extraction import \n",
    "from sklearn import preprocessing\n",
    "from sklearn.utils import shuffle\n",
    "from sklearn.metrics import mean_absolute_error\n",
    "from sklearn import linear_model\n",
    "from sklearn.model_selection import cross_val_score\n",
    "from sklearn.model_selection import train_test_split\n",
    "from sklearn.linear_model import LinearRegression\n",
    "from sklearn.linear_model import Ridge # l2 regularization\n",
    "from sklearn.linear_model import Lasso # l1 regularization\n",
    "\n",
    "from sklearn.feature_selection import mutual_info_regression"
   ]
  },
  {
   "cell_type": "code",
   "execution_count": 2,
   "metadata": {
    "collapsed": false
   },
   "outputs": [],
   "source": [
    "# Reading in the data\n",
    "df_data = pd.read_csv('./data_in/train.csv')"
   ]
  },
  {
   "cell_type": "code",
   "execution_count": 3,
   "metadata": {
    "collapsed": false
   },
   "outputs": [],
   "source": [
    "df_data_encoded = df_data.copy()\n",
    "\n",
    "# encoding into the categorical value\n",
    "le = preprocessing.LabelEncoder()\n",
    "for c in df_data_encoded.columns:\n",
    "    if c.find('cat') >=0: # -1: substring not found, >=0, starting index\n",
    "        df_data_encoded[c] = le.fit_transform(df_data_encoded[c])\n",
    "\n",
    "# De-identifying and de-loss-ing dataframe\n",
    "np.random.seed(100)\n",
    "\n",
    "col = list(df_data_encoded.columns)\n",
    "col.remove('loss') \n",
    "col.remove('id')\n",
    "\n",
    "X = df_data_encoded[col] # data frame without IDs or loss variable\n",
    "y = np.log10(df_data_encoded.loss) # takes the log{10} of the loss parameter\n",
    "id = df_data_encoded.id # id variable\n",
    "loss = df_data_encoded.loss # keep this for feature selection\n",
    "\n",
    "# Set variables to hold dev and training data.\n",
    "dev_data, dev_labels, dev_id, dev_loss = X[168318:], y[168318:], id[168318:], loss[168318:]\n",
    "train_data, train_labels, train_id, train_loss = X[:168318], y[:168318], id[:168318], loss[:168318]\n",
    "mini_train_data, mini_train_labels, mini_train_id, mini_train_loss = X[:1000], y[:1000], id[:1000], loss[:1000]\n",
    "\n"
   ]
  },
  {
   "cell_type": "code",
   "execution_count": 5,
   "metadata": {
    "collapsed": false
   },
   "outputs": [
    {
     "data": {
      "text/plain": [
       "(130,)"
      ]
     },
     "execution_count": 5,
     "metadata": {},
     "output_type": "execute_result"
    }
   ],
   "source": [
    "# Experimenting with mutual_info_regression\n",
    "# Returns an array of estimated mutual information between each feature and its target\n",
    "# this takes a LONG TIME for the whole dataset; not ideal\n",
    "\n",
    "# Defining inputs for the function\n",
    "loss_array = np.asarray(mini_train_loss) # this is the target vector\n",
    "mini_train_matrix = mini_train_data.as_matrix(col) # variable df, as a matrix\n",
    "\n",
    "# Running mutual_info_regression\n",
    "mutual_info_regression(mini_train_matrix,loss_array).shape\n"
   ]
  },
  {
   "cell_type": "code",
   "execution_count": 8,
   "metadata": {
    "collapsed": false
   },
   "outputs": [
    {
     "name": "stdout",
     "output_type": "stream",
     "text": [
      "Linear Regression, MSE on dev data: 0.06337191367597368\n",
      "Linear Regression with L1 regularization, MSE on dev data: 0.06337223222747933\n",
      "Linear Regression with L2 regularization, MSE on dev data: 0.12403214372261884\n",
      "\t\n",
      "Linear regression worse than L1: False\n",
      "Linear regression worse than L2: False\n",
      "L1 worse than L2: False\n",
      "\t\n",
      "Mean squared error, original: 0.196981281532\n",
      "Mean squared error, l1: 0.19698271581\n",
      "Mean squared error, l2: 0.287028383645\n"
     ]
    },
    {
     "data": {
      "text/plain": [
       "True"
      ]
     },
     "execution_count": 8,
     "metadata": {},
     "output_type": "execute_result"
    }
   ],
   "source": [
    "# Fitting a linear regression model\n",
    "lm = LinearRegression()\n",
    "lm.fit(train_data, train_labels)\n",
    "lm_dev_mse = ((lm.predict(dev_data) - dev_labels) ** 2).mean()\n",
    "dev_pred = lm.predict(dev_data)\n",
    "\n",
    "# Fitting a lienar regression model with L1 regularization using Ridge\n",
    "lm_l1 = Ridge(alpha=0.05, normalize=False)\n",
    "lm_l1.fit(train_data, train_labels)\n",
    "lml1_dev_mse = ((lm_l1.predict(dev_data) - dev_labels) ** 2).mean()\n",
    "dev_pred_l1 = lm_l1.predict(dev_data)\n",
    "\n",
    "# Fitting a lienar regression model with L2 regularization using Lasso\n",
    "lm_l2 = Lasso(alpha=0.05, normalize=True, max_iter=100)\n",
    "lm_l2.fit(train_data, train_labels)\n",
    "lml2_dev_mse = ((lm_l2.predict(dev_data) - dev_labels) ** 2).mean()\n",
    "dev_pred_l2 = lm_l2.predict(dev_data)\n",
    "\n",
    "# Comparing the models based on MSE\n",
    "print(\"Linear Regression, MSE on dev data:\", lm_dev_mse)\n",
    "print(\"Linear Regression with L1 regularization, MSE on dev data:\", lml1_dev_mse)\n",
    "print(\"Linear Regression with L2 regularization, MSE on dev data:\", lml2_dev_mse)\n",
    "print(\"\\t\")\n",
    "print(\"Linear regression worse than L1:\",lm_dev_mse > lml1_dev_mse)\n",
    "print(\"Linear regression worse than L2:\",lm_dev_mse > lml2_dev_mse)\n",
    "print(\"L1 worse than L2:\", lml1_dev_mse > lml2_dev_mse )\n",
    "\n",
    "\n",
    "# Calculating mean absolute error for each\n",
    "mae = mean_absolute_error(dev_labels, dev_pred)\n",
    "mae_l1 = mean_absolute_error(dev_labels, dev_pred_l1)\n",
    "mae_l2 = mean_absolute_error(dev_labels, dev_pred_l2)\n",
    "\n",
    "print(\"\\t\")\n",
    "print(\"Mean squared error, original:\",mae)\n",
    "print(\"Mean squared error, l1:\",mae_l1)\n",
    "print(\"Mean squared error, l2:\",mae_l2)\n"
   ]
  },
  {
   "cell_type": "markdown",
   "metadata": {
    "collapsed": true
   },
   "source": [
    "James' original code below:"
   ]
  },
  {
   "cell_type": "code",
   "execution_count": 26,
   "metadata": {
    "collapsed": true
   },
   "outputs": [],
   "source": [
    "df_test = pd.read_csv('./data_in/test.csv')\n",
    "df_test_encoded = df_test.copy()\n",
    "\n",
    "# encoding into the categorical value\n",
    "le = preprocessing.LabelEncoder()\n",
    "for c in df_test_encoded.columns:\n",
    "    if c.find('cat') >=0: # -1: substring not found, >=0, starting index\n",
    "        df_test_encoded[c] = le.fit_transform(df_test_encoded[c])\n",
    "\n",
    "np.random.seed(100)\n",
    "\n",
    "col = list(df_test_encoded.columns)\n",
    "col.remove('id')\n",
    "\n",
    "test_data = df_test_encoded[col]\n",
    "test_id = df_test_encoded.id"
   ]
  },
  {
   "cell_type": "code",
   "execution_count": 61,
   "metadata": {
    "collapsed": false
   },
   "outputs": [
    {
     "name": "stdout",
     "output_type": "stream",
     "text": [
      "number of ids:  125546\n",
      "number of rows in predicted test set:  125546\n"
     ]
    }
   ],
   "source": [
    "#id_train, x_train,  y_train = shuffle( df_train.id, df_train[col] , df_train.loss, random_state=0)\n",
    "\n",
    "pd.options.mode.chained_assignment = None\n",
    "\n",
    "#use same linear model previously fit with training data\n",
    "y_test_log_pred = lr.predict(X_test)\n",
    "\n",
    "# convert from log10 scale to linear scale \n",
    "y_test_pred = np.power(10, y_test_log_pred)\n",
    "\n",
    "# assamble the final dataset\n",
    "y_test_predicted_loss=pd.DataFrame(id_test)\n",
    "\n",
    "y_test_pred_df=pd.DataFrame({\"loss\": y_test_pred})\n",
    "\n",
    "y_test_predicted_loss=pd.concat([y_test_predicted_loss,y_test_pred_df], axis=1)\n",
    "\n",
    "\n",
    "#check final output\n",
    "print(\"number of ids: \", len(id_test))\n",
    "print(\"number of rows in predicted test set: \",len(y_test_predicted_loss) )\n",
    "\n",
    "#create csv file to submit\n",
    "y_test_predicted_loss.to_csv('./data_out/AllState_LossPrediction_v1.csv', encoding='utf-8', index=False)\n"
   ]
  },
  {
   "cell_type": "code",
   "execution_count": null,
   "metadata": {
    "collapsed": true
   },
   "outputs": [],
   "source": []
  }
 ],
 "metadata": {
  "anaconda-cloud": {},
  "kernelspec": {
   "display_name": "Python 3",
   "language": "python",
   "name": "python3"
  },
  "language_info": {
   "codemirror_mode": {
    "name": "ipython",
    "version": 3
   },
   "file_extension": ".py",
   "mimetype": "text/x-python",
   "name": "python",
   "nbconvert_exporter": "python",
   "pygments_lexer": "ipython3",
   "version": "3.4.5"
  }
 },
 "nbformat": 4,
 "nbformat_minor": 0
}
